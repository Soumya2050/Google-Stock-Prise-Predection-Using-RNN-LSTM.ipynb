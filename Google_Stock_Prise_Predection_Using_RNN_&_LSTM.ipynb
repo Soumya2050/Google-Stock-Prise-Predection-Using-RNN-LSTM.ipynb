{
  "nbformat": 4,
  "nbformat_minor": 0,
  "metadata": {
    "kernelspec": {
      "display_name": "Python 3",
      "language": "python",
      "name": "python3"
    },
    "language_info": {
      "codemirror_mode": {
        "name": "ipython",
        "version": 3
      },
      "file_extension": ".py",
      "mimetype": "text/x-python",
      "name": "python",
      "nbconvert_exporter": "python",
      "pygments_lexer": "ipython3",
      "version": "3.7.6"
    },
    "colab": {
      "name": "Google Stock Prise Predection Using RNN & LSTM.ipynb",
      "provenance": []
    }
  },
  "cells": [
    {
      "cell_type": "markdown",
      "metadata": {
        "id": "qmmPeYK0jGd3",
        "colab_type": "text"
      },
      "source": [
        "# Google Stock Prise Predection\n",
        "Using Recurrent Neural Network\n",
        "We are predecting google stock prise\n"
      ]
    },
    {
      "cell_type": "markdown",
      "metadata": {
        "id": "LYA7Ajqb4sWS",
        "colab_type": "text"
      },
      "source": [
        "Data set link - https://www.kaggle.com/rahulsah06/gooogle-stock-price"
      ]
    },
    {
      "cell_type": "markdown",
      "metadata": {
        "id": "mvI5Zrup80DO",
        "colab_type": "text"
      },
      "source": [
        "From here we can see our data has 6 columns:\n",
        "\n",
        "* Date: The date of recorded data\n",
        "* Open: The price when stock market open\n",
        "* High: The highest price price of date\n",
        "* Low: The lowest price point of date\n",
        "* Volumn: Total Sale of stock on that date\n",
        "\n",
        "From this point we going to define our goal is to predict the close price of the given date from test data\n",
        "\n"
      ]
    },
    {
      "cell_type": "markdown",
      "metadata": {
        "id": "rYWXq2U_jGe6",
        "colab_type": "text"
      },
      "source": [
        "# Part 1 - Data Preprocessing"
      ]
    },
    {
      "cell_type": "code",
      "metadata": {
        "id": "CC6eNaiGjGfM",
        "colab_type": "code",
        "colab": {}
      },
      "source": [
        "# Importing the libraries\n",
        "import numpy as np\n",
        "import pandas as pd\n",
        "import matplotlib.pyplot as plt\n",
        "# Importing the training set\n",
        "dataset_train = pd.read_csv('Google_Stock_Price_Train.csv')\n",
        "training_set = dataset_train.iloc[:, 1:2].values\n"
      ],
      "execution_count": 0,
      "outputs": []
    },
    {
      "cell_type": "code",
      "metadata": {
        "id": "dDRpv99qjGgL",
        "colab_type": "code",
        "colab": {}
      },
      "source": [
        "# Feature Scaling\n",
        "from sklearn.preprocessing import MinMaxScaler\n",
        "sc = MinMaxScaler(feature_range = (0, 1))\n",
        "training_set_scaled = sc.fit_transform(training_set)"
      ],
      "execution_count": 0,
      "outputs": []
    },
    {
      "cell_type": "code",
      "metadata": {
        "id": "b62iOSFOjGgi",
        "colab_type": "code",
        "colab": {}
      },
      "source": [
        "# Creating a data structure with 60 timesteps and 1 output\n",
        "# We use 60 because  60 days back and forward to predect ,and 1258 the no of train set range no\n",
        "# 0 is the coulmn index\n",
        "X_train = []\n",
        "y_train = []\n",
        "for i in range(60, 1258):\n",
        "    X_train.append(training_set_scaled[i-60:i, 0])\n",
        "    y_train.append(training_set_scaled[i, 0])\n",
        "X_train, y_train = np.array(X_train), np.array(y_train)"
      ],
      "execution_count": 0,
      "outputs": []
    },
    {
      "cell_type": "code",
      "metadata": {
        "id": "SeXqlnBAjGhA",
        "colab_type": "code",
        "colab": {}
      },
      "source": [
        "# Reshaping\n",
        "# we have to reshape the data into 3D\n",
        "# 1s is no of lines in X_train ,2nd is no of times step(coulmn od xtrain),3rd is no of predector the open stock prise\n",
        "# for mode details go to keras recurent layer docomentation\n",
        "X_train = np.reshape(X_train, (X_train.shape[0], X_train.shape[1], 1))"
      ],
      "execution_count": 0,
      "outputs": []
    },
    {
      "cell_type": "markdown",
      "metadata": {
        "id": "Cssi4nPSjGhg",
        "colab_type": "text"
      },
      "source": [
        "# Part 2 - Building the RNN"
      ]
    },
    {
      "cell_type": "code",
      "metadata": {
        "id": "Fx8E6eAGjGiV",
        "colab_type": "code",
        "colab": {
          "base_uri": "https://localhost:8080/",
          "height": 80
        },
        "outputId": "1f5b333f-a74e-47b9-c824-ce787ec4503e"
      },
      "source": [
        "# Importing the Keras libraries and packages\n",
        "from keras.models import Sequential\n",
        "from keras.layers import Dense\n",
        "from keras.layers import LSTM\n",
        "from keras.layers import Dropout"
      ],
      "execution_count": 5,
      "outputs": [
        {
          "output_type": "stream",
          "text": [
            "Using TensorFlow backend.\n"
          ],
          "name": "stderr"
        },
        {
          "output_type": "display_data",
          "data": {
            "text/html": [
              "<p style=\"color: red;\">\n",
              "The default version of TensorFlow in Colab will soon switch to TensorFlow 2.x.<br>\n",
              "We recommend you <a href=\"https://www.tensorflow.org/guide/migrate\" target=\"_blank\">upgrade</a> now \n",
              "or ensure your notebook will continue to use TensorFlow 1.x via the <code>%tensorflow_version 1.x</code> magic:\n",
              "<a href=\"https://colab.research.google.com/notebooks/tensorflow_version.ipynb\" target=\"_blank\">more info</a>.</p>\n"
            ],
            "text/plain": [
              "<IPython.core.display.HTML object>"
            ]
          },
          "metadata": {
            "tags": []
          }
        }
      ]
    },
    {
      "cell_type": "code",
      "metadata": {
        "id": "VYWwap7jjGiv",
        "colab_type": "code",
        "colab": {
          "base_uri": "https://localhost:8080/",
          "height": 71
        },
        "outputId": "48beaaf1-e303-4388-bb4a-ca7349f0e95e"
      },
      "source": [
        "# Initialising the RNN\n",
        "regressor = Sequential()"
      ],
      "execution_count": 6,
      "outputs": [
        {
          "output_type": "stream",
          "text": [
            "WARNING:tensorflow:From /usr/local/lib/python3.6/dist-packages/keras/backend/tensorflow_backend.py:66: The name tf.get_default_graph is deprecated. Please use tf.compat.v1.get_default_graph instead.\n",
            "\n"
          ],
          "name": "stdout"
        }
      ]
    },
    {
      "cell_type": "code",
      "metadata": {
        "id": "p-OrHpujjGjl",
        "colab_type": "code",
        "colab": {
          "base_uri": "https://localhost:8080/",
          "height": 190
        },
        "outputId": "75aa40d3-7dba-4de3-a45e-38db8e0ec21c"
      },
      "source": [
        "# Adding the first LSTM layer and some Dropout regularisation\n",
        "# We use return_sequence true because we are addind anather layer after it, at the last layer it will be False\n",
        "\n",
        "regressor.add(LSTM(units = 50, return_sequences = True, input_shape = (X_train.shape[1], 1)))\n",
        "regressor.add(Dropout(0.2))\n"
      ],
      "execution_count": 7,
      "outputs": [
        {
          "output_type": "stream",
          "text": [
            "WARNING:tensorflow:From /usr/local/lib/python3.6/dist-packages/keras/backend/tensorflow_backend.py:541: The name tf.placeholder is deprecated. Please use tf.compat.v1.placeholder instead.\n",
            "\n",
            "WARNING:tensorflow:From /usr/local/lib/python3.6/dist-packages/keras/backend/tensorflow_backend.py:4432: The name tf.random_uniform is deprecated. Please use tf.random.uniform instead.\n",
            "\n",
            "WARNING:tensorflow:From /usr/local/lib/python3.6/dist-packages/keras/backend/tensorflow_backend.py:148: The name tf.placeholder_with_default is deprecated. Please use tf.compat.v1.placeholder_with_default instead.\n",
            "\n",
            "WARNING:tensorflow:From /usr/local/lib/python3.6/dist-packages/keras/backend/tensorflow_backend.py:3733: calling dropout (from tensorflow.python.ops.nn_ops) with keep_prob is deprecated and will be removed in a future version.\n",
            "Instructions for updating:\n",
            "Please use `rate` instead of `keep_prob`. Rate should be set to `rate = 1 - keep_prob`.\n"
          ],
          "name": "stdout"
        }
      ]
    },
    {
      "cell_type": "code",
      "metadata": {
        "id": "7fffdNuFjGj1",
        "colab_type": "code",
        "colab": {}
      },
      "source": [
        "# Adding a second LSTM layer and some Dropout regularisation\n",
        "regressor.add(LSTM(units = 50, return_sequences = True))\n",
        "regressor.add(Dropout(0.2))\n"
      ],
      "execution_count": 0,
      "outputs": []
    },
    {
      "cell_type": "code",
      "metadata": {
        "id": "OCWW700djGlH",
        "colab_type": "code",
        "colab": {}
      },
      "source": [
        "# Adding a third LSTM layer and some Dropout regularisation\n",
        "regressor.add(LSTM(units = 50, return_sequences = True))\n",
        "regressor.add(Dropout(0.2))"
      ],
      "execution_count": 0,
      "outputs": []
    },
    {
      "cell_type": "code",
      "metadata": {
        "id": "l0l_y9qijGl_",
        "colab_type": "code",
        "colab": {}
      },
      "source": [
        "# Adding a fourth LSTM layer and some Dropout regularisation\n",
        "regressor.add(LSTM(units = 50))\n",
        "regressor.add(Dropout(0.2))"
      ],
      "execution_count": 0,
      "outputs": []
    },
    {
      "cell_type": "code",
      "metadata": {
        "id": "TITHyQlAjGmQ",
        "colab_type": "code",
        "colab": {}
      },
      "source": [
        "# Adding the output layer\n",
        "# For Full connection layer we use dense\n",
        "# As the output is 1D so we use unit=1\n",
        "regressor.add(Dense(units = 1))"
      ],
      "execution_count": 0,
      "outputs": []
    },
    {
      "cell_type": "code",
      "metadata": {
        "id": "YXNUrexYjGmi",
        "colab_type": "code",
        "colab": {
          "base_uri": "https://localhost:8080/",
          "height": 71
        },
        "outputId": "40180617-9e36-4357-b972-af3e6d5d23e7"
      },
      "source": [
        "# Compiling the RNN\n",
        "# For optimizer we can go through keras optimizers Docomentation\n",
        "# As it is regression problem so we use mean squared error\n",
        "regressor.compile(optimizer = 'adam', loss = 'mean_squared_error')\n"
      ],
      "execution_count": 12,
      "outputs": [
        {
          "output_type": "stream",
          "text": [
            "WARNING:tensorflow:From /usr/local/lib/python3.6/dist-packages/keras/optimizers.py:793: The name tf.train.Optimizer is deprecated. Please use tf.compat.v1.train.Optimizer instead.\n",
            "\n"
          ],
          "name": "stdout"
        }
      ]
    },
    {
      "cell_type": "code",
      "metadata": {
        "id": "CGXMVONIjGnt",
        "colab_type": "code",
        "colab": {
          "base_uri": "https://localhost:8080/",
          "height": 1000
        },
        "outputId": "803a88ef-88d8-4132-9fb0-9a77f3939dfc"
      },
      "source": [
        "# Fitting the RNN to the Training set\n",
        "# For best fit accourding to data we can increase the epochs\n",
        "# For forward & back propageted and update weights we use 32  stock prises to train \n",
        "regressor.fit(X_train, y_train, epochs = 150, batch_size = 20)"
      ],
      "execution_count": 22,
      "outputs": [
        {
          "output_type": "stream",
          "text": [
            "Epoch 1/150\n",
            "1198/1198 [==============================] - 10s 9ms/step - loss: 9.2234e-04\n",
            "Epoch 2/150\n",
            "1198/1198 [==============================] - 10s 9ms/step - loss: 8.8963e-04\n",
            "Epoch 3/150\n",
            "1198/1198 [==============================] - 11s 9ms/step - loss: 9.4228e-04\n",
            "Epoch 4/150\n",
            "1198/1198 [==============================] - 11s 9ms/step - loss: 8.5423e-04\n",
            "Epoch 5/150\n",
            "1198/1198 [==============================] - 11s 9ms/step - loss: 9.5533e-04\n",
            "Epoch 6/150\n",
            "1198/1198 [==============================] - 11s 9ms/step - loss: 8.2004e-04\n",
            "Epoch 7/150\n",
            "1198/1198 [==============================] - 11s 9ms/step - loss: 8.4671e-04\n",
            "Epoch 8/150\n",
            "1198/1198 [==============================] - 11s 9ms/step - loss: 0.0011\n",
            "Epoch 9/150\n",
            "1198/1198 [==============================] - 11s 9ms/step - loss: 8.9429e-04\n",
            "Epoch 10/150\n",
            "1198/1198 [==============================] - 11s 9ms/step - loss: 9.8178e-04\n",
            "Epoch 11/150\n",
            "1198/1198 [==============================] - 11s 9ms/step - loss: 9.6253e-04\n",
            "Epoch 12/150\n",
            "1198/1198 [==============================] - 11s 9ms/step - loss: 9.0777e-04\n",
            "Epoch 13/150\n",
            "1198/1198 [==============================] - 11s 9ms/step - loss: 9.0315e-04\n",
            "Epoch 14/150\n",
            "1198/1198 [==============================] - 11s 9ms/step - loss: 7.9841e-04\n",
            "Epoch 15/150\n",
            "1198/1198 [==============================] - 11s 9ms/step - loss: 9.8809e-04\n",
            "Epoch 16/150\n",
            "1198/1198 [==============================] - 10s 9ms/step - loss: 9.4795e-04\n",
            "Epoch 17/150\n",
            "1198/1198 [==============================] - 11s 9ms/step - loss: 8.5979e-04\n",
            "Epoch 18/150\n",
            "1198/1198 [==============================] - 10s 9ms/step - loss: 9.1837e-04\n",
            "Epoch 19/150\n",
            "1198/1198 [==============================] - 10s 9ms/step - loss: 8.0177e-04\n",
            "Epoch 20/150\n",
            "1198/1198 [==============================] - 11s 9ms/step - loss: 9.1100e-04\n",
            "Epoch 21/150\n",
            "1198/1198 [==============================] - 10s 9ms/step - loss: 8.1245e-04\n",
            "Epoch 22/150\n",
            "1198/1198 [==============================] - 10s 9ms/step - loss: 8.3965e-04\n",
            "Epoch 23/150\n",
            "1198/1198 [==============================] - 10s 9ms/step - loss: 8.1954e-04\n",
            "Epoch 24/150\n",
            "1198/1198 [==============================] - 10s 9ms/step - loss: 9.0948e-04\n",
            "Epoch 25/150\n",
            "1198/1198 [==============================] - 10s 9ms/step - loss: 9.0136e-04\n",
            "Epoch 26/150\n",
            "1198/1198 [==============================] - 10s 9ms/step - loss: 8.5232e-04\n",
            "Epoch 27/150\n",
            "1198/1198 [==============================] - 10s 9ms/step - loss: 8.6146e-04\n",
            "Epoch 28/150\n",
            "1198/1198 [==============================] - 10s 8ms/step - loss: 8.0477e-04\n",
            "Epoch 29/150\n",
            "1198/1198 [==============================] - 10s 8ms/step - loss: 9.5466e-04\n",
            "Epoch 30/150\n",
            "1198/1198 [==============================] - 10s 9ms/step - loss: 8.5038e-04\n",
            "Epoch 31/150\n",
            "1198/1198 [==============================] - 10s 9ms/step - loss: 8.2777e-04\n",
            "Epoch 32/150\n",
            "1198/1198 [==============================] - 10s 9ms/step - loss: 8.0322e-04\n",
            "Epoch 33/150\n",
            "1198/1198 [==============================] - 10s 9ms/step - loss: 8.5070e-04\n",
            "Epoch 34/150\n",
            "1198/1198 [==============================] - 10s 8ms/step - loss: 8.6058e-04\n",
            "Epoch 35/150\n",
            "1198/1198 [==============================] - 10s 8ms/step - loss: 8.1310e-04\n",
            "Epoch 36/150\n",
            "1198/1198 [==============================] - 10s 9ms/step - loss: 9.0830e-04\n",
            "Epoch 37/150\n",
            "1198/1198 [==============================] - 10s 9ms/step - loss: 8.6524e-04\n",
            "Epoch 38/150\n",
            "1198/1198 [==============================] - 10s 8ms/step - loss: 9.2906e-04\n",
            "Epoch 39/150\n",
            "1198/1198 [==============================] - 10s 8ms/step - loss: 8.4889e-04\n",
            "Epoch 40/150\n",
            "1198/1198 [==============================] - 10s 8ms/step - loss: 8.1970e-04\n",
            "Epoch 41/150\n",
            "1198/1198 [==============================] - 10s 8ms/step - loss: 8.1023e-04\n",
            "Epoch 42/150\n",
            "1198/1198 [==============================] - 10s 9ms/step - loss: 9.4870e-04\n",
            "Epoch 43/150\n",
            "1198/1198 [==============================] - 10s 9ms/step - loss: 0.0010\n",
            "Epoch 44/150\n",
            "1198/1198 [==============================] - 10s 9ms/step - loss: 9.5102e-04\n",
            "Epoch 45/150\n",
            "1198/1198 [==============================] - 10s 8ms/step - loss: 9.3741e-04\n",
            "Epoch 46/150\n",
            "1198/1198 [==============================] - 11s 9ms/step - loss: 8.2942e-04\n",
            "Epoch 47/150\n",
            "1198/1198 [==============================] - 10s 9ms/step - loss: 7.9780e-04\n",
            "Epoch 48/150\n",
            "1198/1198 [==============================] - 10s 9ms/step - loss: 9.8848e-04\n",
            "Epoch 49/150\n",
            "1198/1198 [==============================] - 10s 9ms/step - loss: 9.3419e-04\n",
            "Epoch 50/150\n",
            "1198/1198 [==============================] - 10s 9ms/step - loss: 8.6914e-04\n",
            "Epoch 51/150\n",
            "1198/1198 [==============================] - 10s 8ms/step - loss: 8.4561e-04\n",
            "Epoch 52/150\n",
            "1198/1198 [==============================] - 10s 9ms/step - loss: 8.2599e-04\n",
            "Epoch 53/150\n",
            "1198/1198 [==============================] - 10s 9ms/step - loss: 9.0054e-04\n",
            "Epoch 54/150\n",
            "1198/1198 [==============================] - 10s 9ms/step - loss: 8.6073e-04\n",
            "Epoch 55/150\n",
            "1198/1198 [==============================] - 11s 9ms/step - loss: 7.8888e-04\n",
            "Epoch 56/150\n",
            "1198/1198 [==============================] - 10s 9ms/step - loss: 9.6847e-04\n",
            "Epoch 57/150\n",
            "1198/1198 [==============================] - 10s 9ms/step - loss: 8.8958e-04\n",
            "Epoch 58/150\n",
            "1198/1198 [==============================] - 10s 9ms/step - loss: 8.9453e-04\n",
            "Epoch 59/150\n",
            "1198/1198 [==============================] - 10s 9ms/step - loss: 9.4922e-04\n",
            "Epoch 60/150\n",
            "1198/1198 [==============================] - 11s 9ms/step - loss: 8.3632e-04\n",
            "Epoch 61/150\n",
            "1198/1198 [==============================] - 11s 9ms/step - loss: 9.5048e-04\n",
            "Epoch 62/150\n",
            "1198/1198 [==============================] - 11s 9ms/step - loss: 8.8454e-04\n",
            "Epoch 63/150\n",
            "1198/1198 [==============================] - 11s 9ms/step - loss: 8.7350e-04\n",
            "Epoch 64/150\n",
            "1198/1198 [==============================] - 10s 9ms/step - loss: 7.5787e-04\n",
            "Epoch 65/150\n",
            "1198/1198 [==============================] - 11s 9ms/step - loss: 8.5320e-04\n",
            "Epoch 66/150\n",
            "1198/1198 [==============================] - 11s 9ms/step - loss: 8.2129e-04\n",
            "Epoch 67/150\n",
            "1198/1198 [==============================] - 10s 9ms/step - loss: 8.3886e-04\n",
            "Epoch 68/150\n",
            "1198/1198 [==============================] - 10s 9ms/step - loss: 8.6764e-04\n",
            "Epoch 69/150\n",
            "1198/1198 [==============================] - 10s 9ms/step - loss: 7.9650e-04\n",
            "Epoch 70/150\n",
            "1198/1198 [==============================] - 10s 8ms/step - loss: 8.2946e-04\n",
            "Epoch 71/150\n",
            "1198/1198 [==============================] - 10s 9ms/step - loss: 7.6858e-04\n",
            "Epoch 72/150\n",
            "1198/1198 [==============================] - 10s 9ms/step - loss: 8.7211e-04\n",
            "Epoch 73/150\n",
            "1198/1198 [==============================] - 10s 8ms/step - loss: 0.0010\n",
            "Epoch 74/150\n",
            "1198/1198 [==============================] - 10s 9ms/step - loss: 7.9539e-04\n",
            "Epoch 75/150\n",
            "1198/1198 [==============================] - 10s 8ms/step - loss: 8.5866e-04\n",
            "Epoch 76/150\n",
            "1198/1198 [==============================] - 10s 8ms/step - loss: 7.9932e-04\n",
            "Epoch 77/150\n",
            "1198/1198 [==============================] - 10s 9ms/step - loss: 8.5174e-04\n",
            "Epoch 78/150\n",
            "1198/1198 [==============================] - 10s 9ms/step - loss: 8.1778e-04\n",
            "Epoch 79/150\n",
            "1198/1198 [==============================] - 10s 8ms/step - loss: 8.9437e-04\n",
            "Epoch 80/150\n",
            "1198/1198 [==============================] - 10s 8ms/step - loss: 8.6157e-04\n",
            "Epoch 81/150\n",
            "1198/1198 [==============================] - 10s 8ms/step - loss: 8.8429e-04\n",
            "Epoch 82/150\n",
            "1198/1198 [==============================] - 10s 8ms/step - loss: 7.8379e-04\n",
            "Epoch 83/150\n",
            "1198/1198 [==============================] - 10s 8ms/step - loss: 7.6010e-04\n",
            "Epoch 84/150\n",
            "1198/1198 [==============================] - 10s 9ms/step - loss: 8.8450e-04\n",
            "Epoch 85/150\n",
            "1198/1198 [==============================] - 10s 8ms/step - loss: 8.6945e-04\n",
            "Epoch 86/150\n",
            "1198/1198 [==============================] - 10s 8ms/step - loss: 7.4025e-04\n",
            "Epoch 87/150\n",
            "1198/1198 [==============================] - 10s 8ms/step - loss: 7.8894e-04\n",
            "Epoch 88/150\n",
            "1198/1198 [==============================] - 10s 8ms/step - loss: 8.4405e-04\n",
            "Epoch 89/150\n",
            "1198/1198 [==============================] - 10s 9ms/step - loss: 7.8324e-04\n",
            "Epoch 90/150\n",
            "1198/1198 [==============================] - 10s 9ms/step - loss: 8.1425e-04\n",
            "Epoch 91/150\n",
            "1198/1198 [==============================] - 10s 9ms/step - loss: 7.5416e-04\n",
            "Epoch 92/150\n",
            "1198/1198 [==============================] - 10s 8ms/step - loss: 8.0621e-04\n",
            "Epoch 93/150\n",
            "1198/1198 [==============================] - 10s 9ms/step - loss: 0.0010\n",
            "Epoch 94/150\n",
            "1198/1198 [==============================] - 10s 9ms/step - loss: 7.8159e-04\n",
            "Epoch 95/150\n",
            "1198/1198 [==============================] - 10s 9ms/step - loss: 8.7896e-04\n",
            "Epoch 96/150\n",
            "1198/1198 [==============================] - 10s 9ms/step - loss: 9.6043e-04\n",
            "Epoch 97/150\n",
            "1198/1198 [==============================] - 10s 8ms/step - loss: 8.8239e-04\n",
            "Epoch 98/150\n",
            "1198/1198 [==============================] - 10s 8ms/step - loss: 7.6443e-04\n",
            "Epoch 99/150\n",
            "1198/1198 [==============================] - 10s 8ms/step - loss: 7.8368e-04\n",
            "Epoch 100/150\n",
            "1198/1198 [==============================] - 10s 9ms/step - loss: 8.2718e-04\n",
            "Epoch 101/150\n",
            "1198/1198 [==============================] - 10s 9ms/step - loss: 8.8854e-04\n",
            "Epoch 102/150\n",
            "1198/1198 [==============================] - 10s 9ms/step - loss: 8.8323e-04\n",
            "Epoch 103/150\n",
            "1198/1198 [==============================] - 10s 8ms/step - loss: 0.0010\n",
            "Epoch 104/150\n",
            "1198/1198 [==============================] - 10s 8ms/step - loss: 8.6465e-04\n",
            "Epoch 105/150\n",
            "1198/1198 [==============================] - 10s 8ms/step - loss: 8.1068e-04\n",
            "Epoch 106/150\n",
            "1198/1198 [==============================] - 10s 9ms/step - loss: 8.2617e-04\n",
            "Epoch 107/150\n",
            "1198/1198 [==============================] - 10s 9ms/step - loss: 7.9099e-04\n",
            "Epoch 108/150\n",
            "1198/1198 [==============================] - 10s 9ms/step - loss: 9.4506e-04\n",
            "Epoch 109/150\n",
            "1198/1198 [==============================] - 10s 8ms/step - loss: 7.5196e-04\n",
            "Epoch 110/150\n",
            "1198/1198 [==============================] - 10s 8ms/step - loss: 7.2956e-04\n",
            "Epoch 111/150\n",
            "1198/1198 [==============================] - 10s 8ms/step - loss: 9.0470e-04\n",
            "Epoch 112/150\n",
            "1198/1198 [==============================] - 10s 9ms/step - loss: 8.1732e-04\n",
            "Epoch 113/150\n",
            "1198/1198 [==============================] - 10s 9ms/step - loss: 8.7868e-04\n",
            "Epoch 114/150\n",
            "1198/1198 [==============================] - 10s 9ms/step - loss: 9.0302e-04\n",
            "Epoch 115/150\n",
            "1198/1198 [==============================] - 10s 8ms/step - loss: 8.2165e-04\n",
            "Epoch 116/150\n",
            "1198/1198 [==============================] - 10s 8ms/step - loss: 8.1276e-04\n",
            "Epoch 117/150\n",
            "1198/1198 [==============================] - 10s 8ms/step - loss: 8.2788e-04\n",
            "Epoch 118/150\n",
            "1198/1198 [==============================] - 10s 9ms/step - loss: 8.1675e-04\n",
            "Epoch 119/150\n",
            "1198/1198 [==============================] - 10s 9ms/step - loss: 9.6052e-04\n",
            "Epoch 120/150\n",
            "1198/1198 [==============================] - 10s 9ms/step - loss: 8.4461e-04\n",
            "Epoch 121/150\n",
            "1198/1198 [==============================] - 10s 8ms/step - loss: 7.3261e-04\n",
            "Epoch 122/150\n",
            "1198/1198 [==============================] - 10s 8ms/step - loss: 7.7623e-04\n",
            "Epoch 123/150\n",
            "1198/1198 [==============================] - 10s 8ms/step - loss: 8.8295e-04\n",
            "Epoch 124/150\n",
            "1198/1198 [==============================] - 10s 9ms/step - loss: 9.9342e-04\n",
            "Epoch 125/150\n",
            "1198/1198 [==============================] - 10s 8ms/step - loss: 8.6239e-04\n",
            "Epoch 126/150\n",
            "1198/1198 [==============================] - 10s 9ms/step - loss: 8.2451e-04\n",
            "Epoch 127/150\n",
            "1198/1198 [==============================] - 10s 8ms/step - loss: 7.8567e-04\n",
            "Epoch 128/150\n",
            "1198/1198 [==============================] - 10s 8ms/step - loss: 8.4475e-04\n",
            "Epoch 129/150\n",
            "1198/1198 [==============================] - 10s 8ms/step - loss: 8.9345e-04\n",
            "Epoch 130/150\n",
            "1198/1198 [==============================] - 10s 9ms/step - loss: 7.8236e-04\n",
            "Epoch 131/150\n",
            "1198/1198 [==============================] - 10s 9ms/step - loss: 8.5269e-04\n",
            "Epoch 132/150\n",
            "1198/1198 [==============================] - 10s 8ms/step - loss: 7.0401e-04\n",
            "Epoch 133/150\n",
            "1198/1198 [==============================] - 10s 9ms/step - loss: 8.2241e-04\n",
            "Epoch 134/150\n",
            "1198/1198 [==============================] - 10s 9ms/step - loss: 9.3619e-04\n",
            "Epoch 135/150\n",
            "1198/1198 [==============================] - 10s 9ms/step - loss: 8.7402e-04\n",
            "Epoch 136/150\n",
            "1198/1198 [==============================] - 11s 9ms/step - loss: 8.5819e-04\n",
            "Epoch 137/150\n",
            "1198/1198 [==============================] - 11s 9ms/step - loss: 8.3977e-04\n",
            "Epoch 138/150\n",
            "1198/1198 [==============================] - 10s 9ms/step - loss: 7.5460e-04\n",
            "Epoch 139/150\n",
            "1198/1198 [==============================] - 10s 9ms/step - loss: 8.5162e-04\n",
            "Epoch 140/150\n",
            "1198/1198 [==============================] - 10s 9ms/step - loss: 8.2681e-04\n",
            "Epoch 141/150\n",
            "1198/1198 [==============================] - 10s 9ms/step - loss: 7.9488e-04\n",
            "Epoch 142/150\n",
            "1198/1198 [==============================] - 10s 9ms/step - loss: 8.1653e-04\n",
            "Epoch 143/150\n",
            "1198/1198 [==============================] - 10s 9ms/step - loss: 8.6083e-04\n",
            "Epoch 144/150\n",
            "1198/1198 [==============================] - 10s 9ms/step - loss: 8.2214e-04\n",
            "Epoch 145/150\n",
            "1198/1198 [==============================] - 10s 8ms/step - loss: 8.6728e-04\n",
            "Epoch 146/150\n",
            "1198/1198 [==============================] - 10s 8ms/step - loss: 8.5389e-04\n",
            "Epoch 147/150\n",
            "1198/1198 [==============================] - 10s 9ms/step - loss: 8.6891e-04\n",
            "Epoch 148/150\n",
            "1198/1198 [==============================] - 10s 9ms/step - loss: 9.4525e-04\n",
            "Epoch 149/150\n",
            "1198/1198 [==============================] - 10s 9ms/step - loss: 8.1280e-04\n",
            "Epoch 150/150\n",
            "1198/1198 [==============================] - 10s 9ms/step - loss: 8.2160e-04\n"
          ],
          "name": "stdout"
        },
        {
          "output_type": "execute_result",
          "data": {
            "text/plain": [
              "<keras.callbacks.History at 0x7f5a4a508be0>"
            ]
          },
          "metadata": {
            "tags": []
          },
          "execution_count": 22
        }
      ]
    },
    {
      "cell_type": "markdown",
      "metadata": {
        "id": "MZMC4jQxjGpq",
        "colab_type": "text"
      },
      "source": [
        "# Part 3 - Making the predictions and visualising the results"
      ]
    },
    {
      "cell_type": "code",
      "metadata": {
        "id": "ndgDTxgXjGpu",
        "colab_type": "code",
        "colab": {}
      },
      "source": [
        "# Getting the real stock price of 2017\n",
        "dataset_test = pd.read_csv('Google_Stock_Price_Test.csv')\n",
        "real_stock_price = dataset_test.iloc[:, 1:2].values\n"
      ],
      "execution_count": 0,
      "outputs": []
    },
    {
      "cell_type": "code",
      "metadata": {
        "id": "rC5Z7Y3ijGq5",
        "colab_type": "code",
        "colab": {}
      },
      "source": [
        "# Getting the predicted stock price of 2017\n",
        "dataset_total = pd.concat((dataset_train['Open'], dataset_test['Open']), axis = 0)\n",
        "inputs = dataset_total[len(dataset_total) - len(dataset_test) - 60:].values\n",
        "inputs = inputs.reshape(-1,1)\n",
        "inputs = sc.transform(inputs)\n",
        "X_test = []\n",
        "for i in range(60, 80):\n",
        "    X_test.append(inputs[i-60:i, 0])\n",
        "X_test = np.array(X_test)\n",
        "X_test = np.reshape(X_test, (X_test.shape[0], X_test.shape[1], 1))\n",
        "predicted_stock_price = regressor.predict(X_test)\n",
        "predicted_stock_price = sc.inverse_transform(predicted_stock_price)\n"
      ],
      "execution_count": 0,
      "outputs": []
    },
    {
      "cell_type": "code",
      "metadata": {
        "id": "1vKCD_9YjGss",
        "colab_type": "code",
        "colab": {
          "base_uri": "https://localhost:8080/",
          "height": 295
        },
        "outputId": "8530b946-362f-4c82-db11-2c0ba07edaf1"
      },
      "source": [
        "# Visualising the results\n",
        "plt.plot(real_stock_price, color = 'red', label = 'Real Google Stock Price')\n",
        "plt.plot(predicted_stock_price, color = 'blue', label = 'Predicted Google Stock Price')\n",
        "plt.title('Google Stock Price Prediction')\n",
        "plt.xlabel('Time')\n",
        "plt.ylabel('Google Stock Price')\n",
        "plt.legend()\n",
        "plt.show()"
      ],
      "execution_count": 25,
      "outputs": [
        {
          "output_type": "display_data",
          "data": {
            "image/png": "[encoded data removed]",
            "text/plain": [
              "<Figure size 432x288 with 1 Axes>"
            ]
          },
          "metadata": {
            "tags": []
          }
        }
      ]
    },
    {
      "cell_type": "code",
      "metadata": {
        "id": "pIOCXtdOjGuX",
        "colab_type": "code",
        "colab": {}
      },
      "source": [
        ""
      ],
      "execution_count": 0,
      "outputs": []
    }
  ]
}